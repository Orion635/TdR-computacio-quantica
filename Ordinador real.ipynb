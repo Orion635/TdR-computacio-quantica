{
 "cells": [
  {
   "cell_type": "code",
   "execution_count": 1,
   "id": "a8dfaabe-796b-4436-9edf-d1d0163dbca7",
   "metadata": {},
   "outputs": [],
   "source": [
    "#Importar les llibreries de Qiskit\n",
    "from qiskit import QuantumCircuit, QuantumRegister, ClassicalRegister\n",
    "from qiskit_ibm_runtime import QiskitRuntimeService, Sampler, Estimator, Session, Options\n",
    "\n",
    "#Iniciar sessió a la conta d'IBM\n",
    "service = QiskitRuntimeService()"
   ]
  },
  {
   "cell_type": "code",
   "execution_count": 2,
   "id": "0a761a28-2351-466d-8095-ced1905f678a",
   "metadata": {
    "tags": []
   },
   "outputs": [
    {
     "data": {
      "image/png": "[encoded data removed]",
      "text/plain": [
       "<Figure size 203.683x200.667 with 1 Axes>"
      ]
     },
     "execution_count": 2,
     "metadata": {},
     "output_type": "execute_result"
    }
   ],
   "source": [
    "#Crear un circuit de 2 qbits. Aquest tindrà el nom de ex a partir d'ara. És a dir que, cada cop que nosaltres\n",
    "#posem ex en el codi, aquest ho interpretarà com a un QuantumCircuit(2). D'aquesta manera estalviem escriure\n",
    "#massa i fem que el nostre codi sigui més senzill d'entendre.\n",
    "ex = QuantumCircuit(2)\n",
    "#Hem de tenir en compte que els qbits comencen per el 0. Tenim 2 qbits, el 0 i el 1.\n",
    "\n",
    "#Afegim una porta Hadamard al primer qbit. Posem a quin circuit volem aplicar la porta, quina porta i a quin qbit.\n",
    "ex.h(0)\n",
    "\n",
    "#Ara demanem que ens faci un retorn dels resultats en forma de dibuix.\n",
    "#Utilitzem el mpl per tal d'obtenir una representació gràfica, si no ens\n",
    "#hauria de fer el dibuix utilitzant caràcters de text.\n",
    "ex.draw (\"mpl\")\n"
   ]
  },
  {
   "cell_type": "code",
   "execution_count": 3,
   "id": "3d5dff5d-627a-461b-a980-68926151a752",
   "metadata": {
    "tags": []
   },
   "outputs": [
    {
     "data": {
      "image/png": "[encoded data removed]",
      "text/plain": [
       "<Figure size 287.294x200.667 with 1 Axes>"
      ]
     },
     "execution_count": 3,
     "metadata": {},
     "output_type": "execute_result"
    }
   ],
   "source": [
    "#Ara crearem el circuit que utilitzarem, l'anomenarem qc i serà de 2 qbits.\n",
    "qc = QuantumCircuit (2)\n",
    "\n",
    "#Primer utilitzarem una porta Hadamard al nostre primer qbit.\n",
    "#Després aplicarem una porta CNOT als qbits (0,1), sent el primer el de control\n",
    "#i el segon el que cambiarà de valor si es donen les condicions. \n",
    "qc.h(0)\n",
    "qc.cx (0,1)\n",
    "\n",
    "qc.draw (\"mpl\")"
   ]
  },
  {
   "cell_type": "code",
   "execution_count": 4,
   "id": "c9c17b0e-93a8-4d02-91a4-9872032ae30e",
   "metadata": {
    "tags": []
   },
   "outputs": [],
   "source": [
    "#Importem Pauli ja que l'utilitzarem a continuació\n",
    "from qiskit.quantum_info import Pauli\n",
    "\n",
    "ZZ = Pauli('ZZ')\n",
    "ZI = Pauli('ZI')\n",
    "IZ = Pauli('IZ')\n",
    "XX = Pauli('XX')\n",
    "XI = Pauli('XI')\n",
    "IX = Pauli('IX')"
   ]
  },
  {
   "cell_type": "code",
   "execution_count": 5,
   "id": "e084a98e-9f1f-438c-a1db-f354b68c530a",
   "metadata": {},
   "outputs": [
    {
     "name": "stderr",
     "output_type": "stream",
     "text": [
      "base_primitive._run_primitive:INFO:2023-12-01 10:03:48,032: Submitting job using options {'optimization_level': 3, 'resilience_level': 1, 'max_execution_time': None, 'transpilation': {'skip_transpilation': False, 'initial_layout': None, 'layout_method': None, 'routing_method': None, 'approximation_degree': None, 'optimization_settings': {'level': 3}, 'coupling_map': None, 'basis_gates': None}, 'resilience': {'noise_amplifier': 'TwoQubitAmplifier', 'noise_factors': (1, 3, 5), 'extrapolator': 'LinearExtrapolator', 'level': 1}, 'execution': {'shots': 1000, 'init_qubits': True, 'noise_model': None, 'seed_simulator': None}, 'environment': {'log_level': 'WARNING', 'callback': None, 'job_tags': []}, 'simulator': {'noise_model': None, 'seed_simulator': None, 'coupling_map': None, 'basis_gates': None}}\n"
     ]
    },
    {
     "data": {
      "text/plain": [
       "EstimatorResult(values=array([ 0.01388889, -0.02380952,  0.        , -0.00396825,  1.        ,\n",
       "        1.        ]), metadata=[{'variance': 0.9998070987654321, 'shots': 1008, 'readout_mitigation_num_twirled_circuits': 16, 'readout_mitigation_shots_calibration': 8192, 'warning': 'Optimization level clipped from 3 to 1'}, {'variance': 0.9994331065759637, 'shots': 1008, 'readout_mitigation_num_twirled_circuits': 16, 'readout_mitigation_shots_calibration': 8192, 'warning': 'Optimization level clipped from 3 to 1'}, {'variance': 1.0, 'shots': 1008, 'readout_mitigation_num_twirled_circuits': 16, 'readout_mitigation_shots_calibration': 8192, 'warning': 'Optimization level clipped from 3 to 1'}, {'variance': 0.9999842529604435, 'shots': 1008, 'readout_mitigation_num_twirled_circuits': 16, 'readout_mitigation_shots_calibration': 8192, 'warning': 'Optimization level clipped from 3 to 1'}, {'variance': 0.0, 'shots': 1008, 'readout_mitigation_num_twirled_circuits': 16, 'readout_mitigation_shots_calibration': 8192, 'warning': 'Optimization level clipped from 3 to 1'}, {'variance': 0.0, 'shots': 1008, 'readout_mitigation_num_twirled_circuits': 16, 'readout_mitigation_shots_calibration': 8192, 'warning': 'Optimization level clipped from 3 to 1'}])"
      ]
     },
     "execution_count": 5,
     "metadata": {},
     "output_type": "execute_result"
    }
   ],
   "source": [
    "#Hem pogut comprovar la forma del nostre circuit i, utilitzant el compositor d'IBM sabem \n",
    "#que tenim un 50% de probabilitats d'obtenir els següents resultats: 000, 001.\n",
    "\n",
    "#Ara posarem una configuració amb un nivell de resilència i d'optimització\n",
    "#per asegurar una mínima fiabilitat dels resultats\n",
    "options = Options()\n",
    "options.resilience_level = 1\n",
    "options.optimization_level = 3\n",
    "\n",
    "#La següent linea farà que, cada cop que posem backend, el programa ens busqui el ordinador quàntic o simulador\n",
    "#amb major disponibilitat, dintre dels que ens ofereix IBM. La que hi ha just després la utilitzariem en cas de\n",
    "#voler buscar unicament un sistema en concret en comptes de buscar el que té major disponibilitat. En aquest\n",
    "#cas el nom és d'un simulador. Es possible que la cua per a un ordinador sigui massa llarga i ens convingui\n",
    "#més utilitzar un simulador ja que acostumen a utilitzar-se menys i tenir total disponibilitat.\n",
    "backend = service.least_busy(simulator=True, operational=True)\n",
    "#backend = service.get_backend(\"ibmq_qasm_simulator\")\n",
    "\n",
    "estimator = Estimator(backend, options=options)\n",
    "\n",
    "job = estimator.run(circuits=[qc]*6, observables= [IZ, IX, ZI, XI, ZZ, XX], shots = 1000)\n",
    "\n",
    "job.result ()"
   ]
  },
  {
   "cell_type": "code",
   "execution_count": 6,
   "id": "8b6c0b22-8776-4cba-b7ee-d9f5f4eb1389",
   "metadata": {
    "tags": []
   },
   "outputs": [
    {
     "data": {
      "image/png": "[encoded data removed]",
      "text/plain": [
       "<Figure size 640x480 with 1 Axes>"
      ]
     },
     "metadata": {},
     "output_type": "display_data"
    }
   ],
   "source": [
    "#Finalment importem l'últim que necessitarem per tal de crear un gràfic on podrem veure els\n",
    "#resultats obtinguts per l'ordinador quàntic. Com que hem utilitzat un estimator, els resultats obtinguts\n",
    "#es tracten d'una estimació dels resultats que s'esperen obtenir per al nostre circuit i observables.\n",
    "import matplotlib.pyplot as plt\n",
    "import numpy as np\n",
    " \n",
    "\n",
    "data = ['IZ', 'IX', 'ZI', 'XI', 'ZZ', 'XX']\n",
    "values = job.result().values\n",
    "\n",
    "\n",
    "error = []\n",
    "for case in job.result().metadata:\n",
    "    error.append(2*np.sqrt(case['variance']/case['shots']))\n",
    " \n",
    "# plotting graph\n",
    "plt.plot(data, values)\n",
    "plt.errorbar(data, values, yerr = error, fmt ='o')\n",
    "plt.xlabel('Observables')\n",
    "plt.ylabel('Values')\n",
    "plt.show()"
   ]
  }
 ],
 "metadata": {
  "kernelspec": {
   "display_name": "Python 3 (ipykernel)",
   "language": "python",
   "name": "python3"
  },
  "language_info": {
   "codemirror_mode": {
    "name": "ipython",
    "version": 3
   },
   "file_extension": ".py",
   "mimetype": "text/x-python",
   "name": "python",
   "nbconvert_exporter": "python",
   "pygments_lexer": "ipython3",
   "version": "3.10.8"
  },
  "widgets": {
   "application/vnd.jupyter.widget-state+json": {
    "state": {},
    "version_major": 2,
    "version_minor": 0
   }
  }
 },
 "nbformat": 4,
 "nbformat_minor": 5
}
